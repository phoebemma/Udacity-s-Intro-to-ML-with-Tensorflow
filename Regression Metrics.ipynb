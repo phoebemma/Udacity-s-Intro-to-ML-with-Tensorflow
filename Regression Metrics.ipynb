{
 "cells": [
  {
   "cell_type": "markdown",
   "metadata": {},
   "source": [
    "### Boston Housing Data\n",
    "\n",
    "In order to gain a better understanding of the metrics used in regression settings, we will be looking at the Boston Housing dataset.  \n",
    "\n",
    "First use the cell below to read in the dataset and set up the training and testing data that will be used for the rest of this problem."
   ]
  },
  {
   "cell_type": "code",
   "execution_count": 1,
   "metadata": {},
   "outputs": [],
   "source": [
    "from sklearn.datasets import load_boston\n",
    "from sklearn.model_selection import train_test_split\n",
    "import numpy as np\n",
    "import tests2 as t\n",
    "\n",
    "boston = load_boston()\n",
    "y = boston.target\n",
    "X = boston.data\n",
    "\n",
    "X_train, X_test, y_train, y_test = train_test_split(\n",
    "            X, y, test_size=0.33, random_state=42)"
   ]
  },
  {
   "cell_type": "markdown",
   "metadata": {},
   "source": [
    "> **Step 1:** Before we get too far, let's do a quick check of the models that you can use in this situation given that you are working on a regression problem.  Use the dictionary and corresponding letters below to provide all the possible models you might choose to use."
   ]
  },
  {
   "cell_type": "code",
   "execution_count": 3,
   "metadata": {},
   "outputs": [
    {
     "name": "stdout",
     "output_type": "stream",
     "text": [
      "That's right!  All but logistic regression can be used for predicting numeric values.  And linear regression is the only one of these that you should not use for predicting categories.  Technically sklearn won't stop you from doing most of anything you want, but you probably want to treat cases in the way you found by answering this question!\n"
     ]
    }
   ],
   "source": [
    "# When can you use the model - use each option as many times as necessary\n",
    "a = 'regression'\n",
    "b = 'classification'\n",
    "c = 'both regression and classification'\n",
    "\n",
    "models = {\n",
    "    'decision trees': c,\n",
    "    'random forest': c,\n",
    "    'adaptive boosting': c,\n",
    "    'logistic regression': b,\n",
    "    'linear regression': a\n",
    "}\n",
    "\n",
    "#checks your answer, no need to change this code\n",
    "t.q1_check(models)"
   ]
  },
  {
   "cell_type": "markdown",
   "metadata": {},
   "source": [
    "> **Step 2:** Now for each of the models you found in the previous question that can be used for regression problems, import them using sklearn."
   ]
  },
  {
   "cell_type": "code",
   "execution_count": 6,
   "metadata": {},
   "outputs": [],
   "source": [
    "# Import models from sklearn - notice you will want to use \n",
    "# the regressor version (not classifier) - googling to find \n",
    "# each of these is what we all do!\n",
    "from sklearn.tree import DecisionTreeRegressor\n",
    "from sklearn.ensemble import RandomForestRegressor, AdaBoostRegressor\n",
    "from sklearn.linear_model import LinearRegression\n",
    "\n"
   ]
  },
  {
   "cell_type": "markdown",
   "metadata": {},
   "source": [
    "> **Step 3:** Now that you have imported the 4 models that can be used for regression problems, instantate each below."
   ]
  },
  {
   "cell_type": "code",
   "execution_count": 12,
   "metadata": {},
   "outputs": [],
   "source": [
    "# Instantiate each of the models you imported\n",
    "# For now use the defaults for all the hyperparameters\n",
    "D_T_model = DecisionTreeRegressor()\n",
    "R_F_model = RandomForestRegressor()\n",
    "L_R_model = LinearRegression()\n",
    "A_D_model = AdaBoostRegressor()"
   ]
  },
  {
   "cell_type": "markdown",
   "metadata": {},
   "source": [
    "> **Step 4:** Fit each of your instantiated models on the training data."
   ]
  },
  {
   "cell_type": "code",
   "execution_count": 14,
   "metadata": {},
   "outputs": [
    {
     "data": {
      "text/plain": [
       "AdaBoostRegressor(base_estimator=None, learning_rate=1.0, loss='linear',\n",
       "         n_estimators=50, random_state=None)"
      ]
     },
     "execution_count": 14,
     "metadata": {},
     "output_type": "execute_result"
    }
   ],
   "source": [
    "# Fit each of your models using the training data\n",
    "D_T_model.fit(X_train, y_train)\n",
    "R_F_model.fit(X_train, y_train)\n",
    "L_R_model.fit(X_train, y_train)\n",
    "A_D_model.fit(X_train, y_train)"
   ]
  },
  {
   "cell_type": "markdown",
   "metadata": {},
   "source": [
    "> **Step 5:** Use each of your models to predict on the test data."
   ]
  },
  {
   "cell_type": "code",
   "execution_count": 15,
   "metadata": {},
   "outputs": [],
   "source": [
    "# Predict on the test values for each model\n",
    "D_T_prediction = D_T_model.predict(X_test)\n",
    "R_F_prediction = R_F_model.predict(X_test)\n",
    "L_R_prediction = L_R_model.predict(X_test)\n",
    "A_D_prediction = A_D_model.predict(X_test)"
   ]
  },
  {
   "cell_type": "markdown",
   "metadata": {},
   "source": [
    "> **Step 6:** Now for the information related to this lesson.  Use the dictionary to match the metrics that are used for regression and those that are for classification."
   ]
  },
  {
   "cell_type": "code",
   "execution_count": 19,
   "metadata": {},
   "outputs": [
    {
     "name": "stdout",
     "output_type": "stream",
     "text": [
      "That's right! Looks like you know your metrics!\n"
     ]
    }
   ],
   "source": [
    "# potential model options\n",
    "a = 'regression'\n",
    "b = 'classification'\n",
    "c = 'both regression and classification'\n",
    "\n",
    "#\n",
    "metrics = {\n",
    "    'precision': b,\n",
    "    'recall':b,\n",
    "    'accuracy': b,\n",
    "    'r2_score': a,\n",
    "    'mean_squared_error': a,\n",
    "    'area_under_curve': b, \n",
    "    'mean_absolute_area': a \n",
    "}\n",
    "\n",
    "#checks your answer, no need to change this code\n",
    "t.q6_check(metrics)"
   ]
  },
  {
   "cell_type": "markdown",
   "metadata": {},
   "source": [
    "> **Step 6:** Now that you have identified the metrics that can be used in for regression problems, use sklearn to import them."
   ]
  },
  {
   "cell_type": "code",
   "execution_count": 21,
   "metadata": {},
   "outputs": [],
   "source": [
    "# Import the metrics from sklearn\n",
    "from sklearn.metrics import r2_score, mean_squared_error, mean_absolute_error"
   ]
  },
  {
   "cell_type": "markdown",
   "metadata": {},
   "source": [
    "> **Step 7:** Similar to what you did with classification models, let's make sure you are comfortable with how exactly each of these metrics is being calculated.  We can then match the value to what sklearn provides."
   ]
  },
  {
   "cell_type": "code",
   "execution_count": 23,
   "metadata": {},
   "outputs": [
    {
     "name": "stdout",
     "output_type": "stream",
     "text": [
      "Decision tree\n",
      "0.741616579438\n",
      "0.741616579438\n",
      "Since the above match, we can see that we have correctly calculated the r2 value.\n",
      "\n",
      "RandomForest\n",
      "0.833313176344\n",
      "0.833313176344\n",
      "Since the above match, we can see that we have correctly calculated the r2 value.\n",
      "\n",
      "LinearRegression\n",
      "0.725851581823\n",
      "0.725851581823\n",
      "Since the above match, we can see that we have correctly calculated the r2 value.\n",
      "\n",
      "AdaBoost\n",
      "0.800696683543\n",
      "0.800696683543\n",
      "Since the above match, we can see that we have correctly calculated the r2 value.\n"
     ]
    }
   ],
   "source": [
    "def r2(actual, preds):\n",
    "    '''\n",
    "    INPUT:\n",
    "    actual - numpy array or pd series of actual y values\n",
    "    preds - numpy array or pd series of predicted y values\n",
    "    OUTPUT:\n",
    "    returns the r-squared score as a float\n",
    "    '''\n",
    "    sse = np.sum((actual-preds)**2)\n",
    "    sst = np.sum((actual-np.mean(actual))**2)\n",
    "    return 1 - sse/sst\n",
    "\n",
    "# Check solution matches sklearn\n",
    "print(\"Decision tree\")\n",
    "print(r2(y_test, D_T_prediction))\n",
    "print(r2_score(y_test, D_T_prediction))\n",
    "print(\"Since the above match, we can see that we have correctly calculated the r2 value.\")\n",
    "\n",
    "print()\n",
    "print(\"RandomForest\")\n",
    "print(r2(y_test, R_F_prediction))\n",
    "print(r2_score(y_test, R_F_prediction))\n",
    "print(\"Since the above match, we can see that we have correctly calculated the r2 value.\")\n",
    "\n",
    "print()\n",
    "print(\"LinearRegression\")\n",
    "print(r2(y_test, L_R_prediction))\n",
    "print(r2_score(y_test, L_R_prediction))\n",
    "print(\"Since the above match, we can see that we have correctly calculated the r2 value.\")\n",
    "print()\n",
    "print(\"AdaBoost\")\n",
    "print(r2(y_test, A_D_prediction))\n",
    "print(r2_score(y_test, A_D_prediction))\n",
    "print(\"Since the above match, we can see that we have correctly calculated the r2 value.\")\n"
   ]
  },
  {
   "cell_type": "markdown",
   "metadata": {},
   "source": [
    "> **Step 8:** Your turn fill in the function below and see if your result matches the built in for mean_squared_error. "
   ]
  },
  {
   "cell_type": "code",
   "execution_count": 30,
   "metadata": {},
   "outputs": [
    {
     "name": "stdout",
     "output_type": "stream",
     "text": [
      "Decision Tree\n",
      "19.5540718563\n",
      "19.5540718563\n",
      "If the above match, you are all set!\n",
      "\n",
      "RandomForest\n",
      "12.6146101796\n",
      "12.6146101796\n",
      "If the above match, you are all set!.\n",
      "\n",
      "LinearRegression\n",
      "20.7471433603\n",
      "20.7471433603\n",
      "If the above match, you are all set!.\n",
      "\n",
      "AdaBoost\n",
      "15.0829777032\n",
      "15.0829777032\n",
      "If the above match, you are all set!.\n"
     ]
    }
   ],
   "source": [
    "def mse(actual, preds):\n",
    "    '''\n",
    "    INPUT:\n",
    "    actual - numpy array or pd series of actual y values\n",
    "    preds - numpy array or pd series of predicted y values\n",
    "    OUTPUT:\n",
    "    returns the mean squared error as a float\n",
    "    '''\n",
    "    mse = np.sum((actual-preds)**2)/len(actual)\n",
    "    return mse\n",
    "\n",
    "\n",
    "# Check your solution matches sklearn\n",
    "print(\"Decision Tree\")\n",
    "print(mse(y_test, D_T_prediction))\n",
    "print(mean_squared_error(y_test, D_T_prediction))\n",
    "print(\"If the above match, you are all set!\")\n",
    "print()\n",
    "print(\"RandomForest\")\n",
    "print(mse(y_test, R_F_prediction))\n",
    "print(mean_squared_error(y_test, R_F_prediction))\n",
    "print(\"If the above match, you are all set!.\")\n",
    "\n",
    "print()\n",
    "print(\"LinearRegression\")\n",
    "print(mse(y_test, L_R_prediction))\n",
    "print(mean_squared_error(y_test, L_R_prediction))\n",
    "print(\"If the above match, you are all set!.\")\n",
    "print()\n",
    "print(\"AdaBoost\")\n",
    "print(mse(y_test, A_D_prediction))\n",
    "print(mean_squared_error(y_test, A_D_prediction))\n",
    "print(\"If the above match, you are all set!.\")\n"
   ]
  },
  {
   "cell_type": "markdown",
   "metadata": {},
   "source": [
    "> **Step 9:** Now one last time - complete the function related to mean absolute error.  Then check your function against the sklearn metric to assure they match. "
   ]
  },
  {
   "cell_type": "code",
   "execution_count": 41,
   "metadata": {},
   "outputs": [
    {
     "name": "stdout",
     "output_type": "stream",
     "text": [
      "Decision Tree\n",
      "3.11556886228\n",
      "3.11556886228\n",
      "If the above match, you are all set!\n",
      "\n",
      "Linear Regression\n",
      "3.15128783659\n",
      "3.15128783659\n",
      "If the above match, you are all set!\n",
      "\n",
      "AdaBoost\n",
      "2.65481017578\n",
      "2.65481017578\n",
      "If the above match, you are all set!\n",
      "\n",
      "Random Forest\n",
      "2.30748502994\n",
      "2.30748502994\n",
      "If the above match, you are all set!\n"
     ]
    }
   ],
   "source": [
    "def mae(actual, preds):\n",
    "    '''\n",
    "    INPUT:\n",
    "    actual - numpy array or pd series of actual y values\n",
    "    preds - numpy array or pd series of predicted y values\n",
    "    OUTPUT:\n",
    "    returns the mean absolute error as a float\n",
    "    '''\n",
    "    return np.sum(np.abs(preds-actual))/len(actual)\n",
    "\n",
    "# Check your solution matches sklearn\n",
    "print(\"Decision Tree\")\n",
    "print(mae(y_test, D_T_prediction))\n",
    "print(mean_absolute_error(y_test, D_T_prediction))\n",
    "print(\"If the above match, you are all set!\")\n",
    "\n",
    "print()\n",
    "print(\"Linear Regression\")\n",
    "print(mae(y_test, L_R_prediction))\n",
    "print(mean_absolute_error(y_test, L_R_prediction))\n",
    "print(\"If the above match, you are all set!\")\n",
    "print()\n",
    "print(\"AdaBoost\")\n",
    "print(mae(y_test, A_D_prediction))\n",
    "print(mean_absolute_error(y_test, A_D_prediction))\n",
    "print(\"If the above match, you are all set!\")\n",
    "print()\n",
    "print(\"Random Forest\")\n",
    "print(mae(y_test, R_F_prediction))\n",
    "print(mean_absolute_error(y_test, R_F_prediction))\n",
    "print(\"If the above match, you are all set!\")"
   ]
  },
  {
   "cell_type": "markdown",
   "metadata": {},
   "source": [
    "> **Step 10:** Which model performed the best in terms of each of the metrics?  Note that r2 and mse will always match, but the mae may give a different best model.  Use the dictionary and space below to match the best model via each metric."
   ]
  },
  {
   "cell_type": "code",
   "execution_count": 43,
   "metadata": {},
   "outputs": [
    {
     "name": "stdout",
     "output_type": "stream",
     "text": [
      "That's right!  The random forest was best in terms of all the metrics this time!\n"
     ]
    }
   ],
   "source": [
    "#match each metric to the model that performed best on it\n",
    "a = 'decision tree'\n",
    "b = 'random forest'\n",
    "c = 'adaptive boosting'\n",
    "d = 'linear regression'\n",
    "\n",
    "\n",
    "best_fit = {\n",
    "    'mse': b,\n",
    "    'r2': b,\n",
    "    'mae': b\n",
    "}\n",
    "\n",
    "#Tests your answer - don't change this code\n",
    "t.check_ten(best_fit)"
   ]
  },
  {
   "cell_type": "code",
   "execution_count": null,
   "metadata": {},
   "outputs": [],
   "source": [
    "# cells for work"
   ]
  },
  {
   "cell_type": "code",
   "execution_count": null,
   "metadata": {},
   "outputs": [],
   "source": []
  },
  {
   "cell_type": "code",
   "execution_count": null,
   "metadata": {},
   "outputs": [],
   "source": []
  }
 ],
 "metadata": {
  "kernelspec": {
   "display_name": "Python 3",
   "language": "python",
   "name": "python3"
  },
  "language_info": {
   "codemirror_mode": {
    "name": "ipython",
    "version": 3
   },
   "file_extension": ".py",
   "mimetype": "text/x-python",
   "name": "python",
   "nbconvert_exporter": "python",
   "pygments_lexer": "ipython3",
   "version": "3.6.3"
  }
 },
 "nbformat": 4,
 "nbformat_minor": 2
}
